{
  "nbformat": 4,
  "nbformat_minor": 0,
  "metadata": {
    "colab": {
      "name": "Day 1 sesson 2 Exercises.ipynb",
      "provenance": [],
      "authorship_tag": "ABX9TyPw+fZkOMGi7RF5N0xccmNM",
      "include_colab_link": true
    },
    "kernelspec": {
      "name": "python3",
      "display_name": "Python 3"
    }
  },
  "cells": [
    {
      "cell_type": "markdown",
      "metadata": {
        "id": "view-in-github",
        "colab_type": "text"
      },
      "source": [
        "<a href=\"https://colab.research.google.com/github/alvas-education-foundation/Jayalakshmi_M/blob/master/Day_1_sesson_2_Exercises.ipynb\" target=\"_parent\"><img src=\"https://colab.research.google.com/assets/colab-badge.svg\" alt=\"Open In Colab\"/></a>"
      ]
    },
    {
      "cell_type": "markdown",
      "metadata": {
        "id": "v4WK7sPoBn-V",
        "colab_type": "text"
      },
      "source": [
        "\n",
        "# 1 Write a program to print the triangle\n",
        "# i/p 4\n",
        "# 1\n",
        "# 2 3\n",
        "# 3 4 5\n",
        "# 4 5 6 7"
      ]
    },
    {
      "cell_type": "code",
      "metadata": {
        "id": "rxaw3whbBp7I",
        "colab_type": "code",
        "colab": {
          "base_uri": "https://localhost:8080/",
          "height": 101
        },
        "outputId": "6c396d54-0f1c-4fce-cb1f-096bba6708ee"
      },
      "source": [
        "n = int(input(\"enter n:\"))\n",
        "for i in range(n):\n",
        "  for j in range(i+1):\n",
        "    print(i+j+1,end=\" \")\n",
        "  print(\" \")"
      ],
      "execution_count": 1,
      "outputs": [
        {
          "output_type": "stream",
          "text": [
            "enter n:4\n",
            "1  \n",
            "2 3  \n",
            "3 4 5  \n",
            "4 5 6 7  \n"
          ],
          "name": "stdout"
        }
      ]
    },
    {
      "cell_type": "markdown",
      "metadata": {
        "id": "z5-oeIHlBsDq",
        "colab_type": "text"
      },
      "source": [
        "\n",
        "\n",
        "# New Section\n",
        "# 2\n",
        "# Enter number 4\n",
        "# *\n",
        "# * *\n",
        "# * * *\n",
        "# * * * *\n"
      ]
    },
    {
      "cell_type": "code",
      "metadata": {
        "id": "KfOUT8l5BptR",
        "colab_type": "code",
        "colab": {
          "base_uri": "https://localhost:8080/",
          "height": 118
        },
        "outputId": "4dd50908-3f3b-41d8-cfdc-7a1eed3e5d58"
      },
      "source": [
        "n = int(input(\"enter n:\"))\n",
        "for i in range(n):\n",
        "  for j in range(i+1):\n",
        "    print(\"*\",end=\" \")\n",
        "  print(\" \")"
      ],
      "execution_count": 2,
      "outputs": [
        {
          "output_type": "stream",
          "text": [
            "enter n:5\n",
            "*  \n",
            "* *  \n",
            "* * *  \n",
            "* * * *  \n",
            "* * * * *  \n"
          ],
          "name": "stdout"
        }
      ]
    },
    {
      "cell_type": "markdown",
      "metadata": {
        "id": "AwBbeqSnBtk4",
        "colab_type": "text"
      },
      "source": [
        "# 3 Enter number 5\n",
        "# 5\n",
        "# 4 5\n",
        "# 3 4 5\n",
        "# 2 3 4 5\n",
        "# 1 2 3 4 5"
      ]
    },
    {
      "cell_type": "code",
      "metadata": {
        "id": "5zLvynd1Bpp4",
        "colab_type": "code",
        "colab": {
          "base_uri": "https://localhost:8080/",
          "height": 118
        },
        "outputId": "b51c5a4c-440f-4c85-c614-de6216d34da8"
      },
      "source": [
        "n = int(input(\"enter n:\"))\n",
        "for i in range(n):\n",
        "  for j in range(i+1):\n",
        "    print(n-i+j,end=\" \")\n",
        "  print(\" \")"
      ],
      "execution_count": 3,
      "outputs": [
        {
          "output_type": "stream",
          "text": [
            "enter n:5\n",
            "5  \n",
            "4 5  \n",
            "3 4 5  \n",
            "2 3 4 5  \n",
            "1 2 3 4 5  \n"
          ],
          "name": "stdout"
        }
      ]
    },
    {
      "cell_type": "markdown",
      "metadata": {
        "id": "eG4hT4_8BuK_",
        "colab_type": "text"
      },
      "source": [
        "# 4 Enter number 5\n",
        "# 5 4 3 2 1\n",
        "# 4 3 2 1\n",
        "# 3 2 1\n",
        "# 2 1\n",
        "# 1"
      ]
    },
    {
      "cell_type": "code",
      "metadata": {
        "id": "PJEhU52NBpmy",
        "colab_type": "code",
        "colab": {
          "base_uri": "https://localhost:8080/",
          "height": 118
        },
        "outputId": "2793f6f2-e6ea-45fa-e03b-39d9f2f182bd"
      },
      "source": [
        "n = int(input(\"enter n:\"))\n",
        "for i in range(n):\n",
        "  for j in range(n-i):\n",
        "    print(n-i-j,end=\" \")\n",
        "  print(\" \")"
      ],
      "execution_count": 4,
      "outputs": [
        {
          "output_type": "stream",
          "text": [
            "enter n:5\n",
            "5 4 3 2 1  \n",
            "4 3 2 1  \n",
            "3 2 1  \n",
            "2 1  \n",
            "1  \n"
          ],
          "name": "stdout"
        }
      ]
    },
    {
      "cell_type": "markdown",
      "metadata": {
        "id": "05nMNGiPBuzd",
        "colab_type": "text"
      },
      "source": [
        "# 5 Enter number 4\n",
        "# 1 2 3 4\n",
        "# 2 3 4\n",
        "# 3 4\n",
        "# 4\n",
        "# 3 4\n",
        "# 2 3 4\n",
        "# 1 2 3 4"
      ]
    },
    {
      "cell_type": "code",
      "metadata": {
        "id": "o4tJVRF_Bpju",
        "colab_type": "code",
        "colab": {
          "base_uri": "https://localhost:8080/",
          "height": 185
        },
        "outputId": "f56b8743-d7de-48fc-dbfa-8a6a7c11abe4"
      },
      "source": [
        "n = int(input(\"enter n:\"))\n",
        "for i in range(n):\n",
        "  for j in range(1,n-i+1):\n",
        "    if(i!=n-1):\n",
        "      print(j+i,end=\" \")\n",
        "  if i!=n-1:\n",
        "    print(\" \")\n",
        "for i in range(n):\n",
        "  for j in range(i+1):\n",
        "    print(n-i+j,end=\" \")\n",
        "  print(\" \")"
      ],
      "execution_count": 8,
      "outputs": [
        {
          "output_type": "stream",
          "text": [
            "enter n:5\n",
            "1 2 3 4 5  \n",
            "2 3 4 5  \n",
            "3 4 5  \n",
            "4 5  \n",
            "5  \n",
            "4 5  \n",
            "3 4 5  \n",
            "2 3 4 5  \n",
            "1 2 3 4 5  \n"
          ],
          "name": "stdout"
        }
      ]
    },
    {
      "cell_type": "markdown",
      "metadata": {
        "id": "eA7loO0oBvcg",
        "colab_type": "text"
      },
      "source": [
        "# 6)Find the length of a string without using len functions"
      ]
    },
    {
      "cell_type": "code",
      "metadata": {
        "id": "JjbiHMZOBpOR",
        "colab_type": "code",
        "colab": {
          "base_uri": "https://localhost:8080/",
          "height": 50
        },
        "outputId": "1f669cf4-4eb0-4631-b741-6391db46bb18"
      },
      "source": [
        "x=input(\"enter the string:\")\n",
        "c=0\n",
        "for i in x:\n",
        "  c=c+1\n",
        "print(\"the length of {0} is {1}\".format(x,c))"
      ],
      "execution_count": 6,
      "outputs": [
        {
          "output_type": "stream",
          "text": [
            "enter the string:hi hello\n",
            "the length of hi hello is 8\n"
          ],
          "name": "stdout"
        }
      ]
    },
    {
      "cell_type": "markdown",
      "metadata": {
        "id": "Rgk_l9vrBwCZ",
        "colab_type": "text"
      },
      "source": [
        "# 7) Find the no of words and characters in a string"
      ]
    },
    {
      "cell_type": "code",
      "metadata": {
        "id": "fbxNFyvcBZYJ",
        "colab_type": "code",
        "colab": {
          "base_uri": "https://localhost:8080/",
          "height": 67
        },
        "outputId": "bc95a9fe-8f92-4530-abd8-9a11a74797fa"
      },
      "source": [
        "s=input(\"enter the string:\")\n",
        "words=len(s.split())\n",
        "char=len(s)\n",
        "print(\"words: {0}\\ncharactrs: {1}\".format(words,char))"
      ],
      "execution_count": 7,
      "outputs": [
        {
          "output_type": "stream",
          "text": [
            "enter the string:we have internet issues\n",
            "words: 4\n",
            "charactrs: 23\n"
          ],
          "name": "stdout"
        }
      ]
    },
    {
      "cell_type": "markdown",
      "metadata": {
        "id": "t-IpJMhnJCM5",
        "colab_type": "text"
      },
      "source": [
        "#8 Find the no of occurrences of a word in a string"
      ]
    },
    {
      "cell_type": "code",
      "metadata": {
        "id": "v_PVip6bJBmZ",
        "colab_type": "code",
        "colab": {
          "base_uri": "https://localhost:8080/",
          "height": 67
        },
        "outputId": "a6296a9c-0899-49fe-b5e6-1dbd373fd1a3"
      },
      "source": [
        "s=input(\"enter the string:\")\n",
        "t=input(\"enter  the word:\")\n",
        "x= s.split(\" \")\n",
        "c = 0\n",
        "for i in x:\n",
        "  if t==i:\n",
        "    c+=1\n",
        "print(\"the word {0} occurs {1} times\".format(t,c))"
      ],
      "execution_count": 9,
      "outputs": [
        {
          "output_type": "stream",
          "text": [
            "enter the string:hdyi djui dhi\n",
            "enter  the word:dhi\n",
            "the word dhi occurs 1 times\n"
          ],
          "name": "stdout"
        }
      ]
    },
    {
      "cell_type": "code",
      "metadata": {
        "id": "oasHlQCdFeZO",
        "colab_type": "code",
        "colab": {}
      },
      "source": [
        ""
      ],
      "execution_count": 0,
      "outputs": []
    }
  ]
}